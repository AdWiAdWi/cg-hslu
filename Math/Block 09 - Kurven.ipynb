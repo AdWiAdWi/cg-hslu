{
 "cells": [
  {
   "cell_type": "markdown",
   "metadata": {},
   "source": [
    "# Computer Graphics - Kurven"
   ]
  },
  {
   "cell_type": "markdown",
   "metadata": {},
   "source": [
    "## Exercise 1 - Interpolierende Kurve durch vier Punkte"
   ]
  },
  {
   "cell_type": "code",
   "execution_count": 1,
   "metadata": {},
   "outputs": [
    {
     "name": "stdout",
     "output_type": "stream",
     "text": [
      "ans =\n",
      "\n",
      "   18.000\n",
      "   12.000\n",
      "  -48.000\n",
      "  -18.667\n",
      "   32.000\n",
      "   10.667\n",
      "\n"
     ]
    }
   ],
   "source": [
    "A = [1/4 0 1/16 0 1/64 0; 0 1/4 0 1/16 0 1/64; 3/4 0 9/16 0 27/64 0; 0 3/4 0 9/16 0 27/64; 1 0 1 0 1 0; 0 1 0 1 0 1];\n",
    "b = [2;2;0;3;2;4];\n",
    "A\\b"
   ]
  },
  {
   "cell_type": "code",
   "execution_count": 40,
   "metadata": {},
   "outputs": [
    {
     "data": {
      "image/png": "[encoded data removed]",
      "text/plain": [
       "<IPython.core.display.Image object>"
      ]
     },
     "metadata": {},
     "output_type": "display_data"
    }
   ],
   "source": [
    "t = 0:0.001:1;\n",
    "f = [6; -12].*t.*(1-t).^2+[15;18].*t.^2.*(1-t)+[9;0].*t.^3;\n",
    "plot (t, f);\n",
    "grid on;\n",
    "xlabel (\"x\");\n",
    "ylabel (\"P(t)\");\n",
    "title (\"Exercise 2\");"
   ]
  },
  {
   "cell_type": "markdown",
   "metadata": {},
   "source": [
    "## Exercise 3"
   ]
  },
  {
   "cell_type": "code",
   "execution_count": 44,
   "metadata": {},
   "outputs": [
    {
     "name": "stdout",
     "output_type": "stream",
     "text": [
      "ans =\n",
      "\n",
      "    3.8889\n",
      "  -16.0000\n",
      "    1.5556\n",
      "   19.5556\n",
      "\n"
     ]
    }
   ],
   "source": [
    "A = [27/64 0 9/64 0; 0 27/64 0 9/64; 9/64 0 27/64 0; 0 9/64 0 27/64];\n",
    "b = [2-(9/64); -4; 5-(243/64); 6];\n",
    "A\\b"
   ]
  }
 ],
 "metadata": {
  "kernelspec": {
   "display_name": "Octave",
   "language": "octave",
   "name": "octave"
  },
  "language_info": {
   "file_extension": ".m",
   "help_links": [
    {
     "text": "GNU Octave",
     "url": "https://www.gnu.org/software/octave/support.html"
    },
    {
     "text": "Octave Kernel",
     "url": "https://github.com/Calysto/octave_kernel"
    },
    {
     "text": "MetaKernel Magics",
     "url": "https://metakernel.readthedocs.io/en/latest/source/README.html"
    }
   ],
   "mimetype": "text/x-octave",
   "name": "octave",
   "version": "5.2.0"
  }
 },
 "nbformat": 4,
 "nbformat_minor": 4
}
