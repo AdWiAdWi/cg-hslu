{
 "cells": [
  {
   "cell_type": "markdown",
   "metadata": {},
   "source": [
    "# Math for Computer Graphics"
   ]
  },
  {
   "cell_type": "markdown",
   "metadata": {},
   "source": [
    "## Basics"
   ]
  },
  {
   "cell_type": "code",
   "execution_count": 81,
   "metadata": {},
   "outputs": [
    {
     "name": "stdout",
     "output_type": "stream",
     "text": [
      "A =\n",
      "\n",
      "   1   3\n",
      "   2   6\n",
      "\n"
     ]
    }
   ],
   "source": [
    "A = [1 3; 2 6]"
   ]
  },
  {
   "cell_type": "code",
   "execution_count": 3,
   "metadata": {},
   "outputs": [
    {
     "name": "stdout",
     "output_type": "stream",
     "text": [
      "ans =\n",
      "\n",
      "    9.0000\n",
      "    2.6000\n",
      "  -46.9000\n",
      "\n"
     ]
    }
   ],
   "source": [
    "cross([2.9 8 1]',[5.5 -1 1]')"
   ]
  },
  {
   "cell_type": "code",
   "execution_count": 10,
   "metadata": {},
   "outputs": [
    {
     "name": "stdout",
     "output_type": "stream",
     "text": [
      "ans =  1\n"
     ]
    }
   ],
   "source": [
    "[0 2 8]*[0; 0.5; 0]"
   ]
  },
  {
   "cell_type": "code",
   "execution_count": 7,
   "metadata": {},
   "outputs": [
    {
     "name": "stdout",
     "output_type": "stream",
     "text": [
      "A =\n",
      "\n",
      "   0.42188   0.00000   0.14062   0.00000\n",
      "   0.00000   0.42188   0.00000   0.14062\n",
      "   0.14062   0.00000   0.42188   0.00000\n",
      "   0.00000   0.14062   0.00000   0.42188\n",
      "\n",
      "b =\n",
      "\n",
      "   1.8594\n",
      "  -4.0000\n",
      "   1.1094\n",
      "   6.0000\n",
      "\n",
      "ans =\n",
      "\n",
      "    3.9722\n",
      "  -16.0000\n",
      "    1.3056\n",
      "   19.5556\n",
      "\n"
     ]
    }
   ],
   "source": [
    "A = [27 0 9 0; 0 27 0 9; 9 0 27 0; 0 9 0 27];\n",
    "A = 1/64 * A\n",
    "b = [2-9/64 -4 5-249/64 6]'\n",
    "A\\b"
   ]
  },
  {
   "cell_type": "code",
   "execution_count": 77,
   "metadata": {},
   "outputs": [
    {
     "name": "stdout",
     "output_type": "stream",
     "text": [
      "A =\n",
      "\n",
      "   10   20\n",
      "   20   40\n",
      "\n"
     ]
    }
   ],
   "source": [
    "A = A*A'"
   ]
  },
  {
   "cell_type": "code",
   "execution_count": 53,
   "metadata": {},
   "outputs": [
    {
     "name": "stdout",
     "output_type": "stream",
     "text": [
      "ans =\n",
      "\n",
      "   1   0  -1\n",
      "   0   1   2\n",
      "   0   0   0\n",
      "\n"
     ]
    }
   ],
   "source": [
    "rref(A)"
   ]
  },
  {
   "cell_type": "code",
   "execution_count": 40,
   "metadata": {},
   "outputs": [
    {
     "name": "stdout",
     "output_type": "stream",
     "text": [
      "ans = -1\n"
     ]
    }
   ],
   "source": [
    "det(A)"
   ]
  },
  {
   "cell_type": "code",
   "execution_count": 80,
   "metadata": {},
   "outputs": [
    {
     "name": "stdout",
     "output_type": "stream",
     "text": [
      "V =\n",
      "\n",
      "  -0.89443   0.44721\n",
      "   0.44721   0.89443\n",
      "\n",
      "lambda =\n",
      "\n",
      "Diagonal Matrix\n",
      "\n",
      "    0    0\n",
      "    0   50\n",
      "\n"
     ]
    }
   ],
   "source": [
    "[V, lambda] = eig(A)"
   ]
  },
  {
   "cell_type": "code",
   "execution_count": 44,
   "metadata": {},
   "outputs": [
    {
     "name": "stdout",
     "output_type": "stream",
     "text": [
      "ans =\n",
      "\n",
      "   5   1  -2\n",
      "  -4  -1   2\n",
      "  -4   0   1\n",
      "\n"
     ]
    }
   ],
   "source": [
    "inv(A)"
   ]
  },
  {
   "cell_type": "code",
   "execution_count": 50,
   "metadata": {},
   "outputs": [
    {
     "name": "stdout",
     "output_type": "stream",
     "text": [
      "ans =\n",
      "\n",
      "  -0.40825\n",
      "   0.81650\n",
      "  -0.40825\n",
      "\n"
     ]
    }
   ],
   "source": [
    "null(A)"
   ]
  },
  {
   "cell_type": "code",
   "execution_count": 51,
   "metadata": {},
   "outputs": [
    {
     "name": "stdout",
     "output_type": "stream",
     "text": [
      "ans =\n",
      "\n",
      "   0.19435  -0.14510\n",
      "   0.59824   0.80131\n",
      "   0.77739  -0.58038\n",
      "\n"
     ]
    }
   ],
   "source": [
    "orth(A)"
   ]
  },
  {
   "cell_type": "code",
   "execution_count": 52,
   "metadata": {},
   "outputs": [
    {
     "name": "stdout",
     "output_type": "stream",
     "text": [
      "ans =  2\n"
     ]
    }
   ],
   "source": [
    "rank(A)"
   ]
  },
  {
   "cell_type": "markdown",
   "metadata": {},
   "source": [
    "## Gerüst für projektive Geometrie"
   ]
  },
  {
   "cell_type": "markdown",
   "metadata": {},
   "source": [
    "$P' = T^{-1}*P*T*Points$"
   ]
  },
  {
   "cell_type": "code",
   "execution_count": 84,
   "metadata": {},
   "outputs": [
    {
     "name": "stdout",
     "output_type": "stream",
     "text": [
      "New_Points =\n",
      "\n",
      "  -1  -1  -2  -2\n",
      "   1   2   2   1\n",
      "   1   1   1   1\n",
      "\n"
     ]
    }
   ],
   "source": [
    "T = [1 0 1; 0 1 0; 0 0 1];\n",
    "P = [0 -1 0; 1 0 0; 0 0 1];\n",
    "Points = [0 1 1 0; 0 0 1 1; 1 1 1 1];\n",
    "New_Points = inv(T) * P * T * Points"
   ]
  }
 ],
 "metadata": {
  "kernelspec": {
   "display_name": "Octave",
   "language": "octave",
   "name": "octave"
  },
  "language_info": {
   "file_extension": ".m",
   "help_links": [
    {
     "text": "GNU Octave",
     "url": "https://www.gnu.org/software/octave/support.html"
    },
    {
     "text": "Octave Kernel",
     "url": "https://github.com/Calysto/octave_kernel"
    },
    {
     "text": "MetaKernel Magics",
     "url": "https://metakernel.readthedocs.io/en/latest/source/README.html"
    }
   ],
   "mimetype": "text/x-octave",
   "name": "octave",
   "version": "5.2.0"
  }
 },
 "nbformat": 4,
 "nbformat_minor": 4
}
